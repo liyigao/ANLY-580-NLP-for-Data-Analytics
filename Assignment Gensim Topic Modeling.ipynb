{
 "cells": [
  {
   "cell_type": "markdown",
   "metadata": {},
   "source": [
    "**Assignment Gensim Topic Modeling**  \n",
    "**Yigao Li**  \n",
    "*Oct 14, 2018*"
   ]
  },
  {
   "cell_type": "code",
   "execution_count": 1,
   "metadata": {},
   "outputs": [
    {
     "name": "stderr",
     "output_type": "stream",
     "text": [
      "C:\\ProgramData\\Anaconda3\\lib\\site-packages\\gensim\\utils.py:1212: UserWarning: detected Windows; aliasing chunkize to chunkize_serial\n",
      "  warnings.warn(\"detected Windows; aliasing chunkize to chunkize_serial\")\n"
     ]
    }
   ],
   "source": [
    "import nltk\n",
    "import gensim\n",
    "from gensim import corpora\n",
    "from gensim import models\n",
    "import os\n",
    "import string\n",
    "from collections import defaultdict\n",
    "import random"
   ]
  },
  {
   "cell_type": "code",
   "execution_count": 2,
   "metadata": {
    "collapsed": true
   },
   "outputs": [],
   "source": [
    "directory = \"text\"\n",
    "documents = []\n",
    "for filename in os.listdir(directory):\n",
    "    with open(directory + \"/\" + filename, encoding = \"utf-8\") as f:\n",
    "        documents.append(f.read().split())"
   ]
  },
  {
   "cell_type": "code",
   "execution_count": 3,
   "metadata": {
    "collapsed": true
   },
   "outputs": [],
   "source": [
    "stopwords = nltk.corpus.stopwords.words(\"english\")\n",
    "texts = [[w for w in document if w.lower() not in stopwords\n",
    "          and w.lower() not in string.punctuation] for document in documents]\n",
    "frequency = defaultdict(int)\n",
    "for text in texts:\n",
    "    for token in text:\n",
    "        frequency[token.lower()] += 1\n",
    "texts = [[token for token in text if frequency[token] > 1] for text in texts]\n",
    "dictionary = corpora.Dictionary(texts)\n",
    "corpus = [dictionary.doc2bow(text) for text in texts]\n",
    "tfidf_model = models.TfidfModel(corpus)\n",
    "corpus_tfidf = tfidf_model[corpus]"
   ]
  },
  {
   "cell_type": "code",
   "execution_count": 4,
   "metadata": {},
   "outputs": [
    {
     "name": "stdout",
     "output_type": "stream",
     "text": [
      "[(0, 0.2321251273920189), (1, -0.33579563777857274), (2, 0.3915224828409042), (3, -0.06764039063756883), (4, 0.1651434436884204), (5, -0.24711087713098262), (6, 0.2457444792400856), (7, -0.13649591692719215), (8, -0.03521410608498562), (9, 0.19857983785988065), (10, -0.15520800019383757), (11, 0.578145337156231), (12, 0.06112505599280676), (13, -0.26332886751903783), (14, 0.14103758780350723), (15, 0.07826810863835869), (16, -0.04530683969050799), (17, 0.022555662600226786), (18, 0.07310005451004774), (19, 0.046043705769048156)]\n",
      "11\n",
      "[(0, 0.35739280955119074), (1, -0.05048937763888813), (2, -0.37478989791279127), (3, -0.17627546508945666), (4, 0.008610144298313098), (5, -0.40795130157973436), (6, -0.03550280833322678), (7, -0.13330164729263386), (8, -0.24402046712447237), (9, 0.1655376664483241), (10, 0.10369780924115037), (11, -0.24703372992945088), (12, -0.3498296983735147), (13, -0.3596135747761595), (14, 0.08788152036849904), (15, 0.19551811367650002), (16, 0.1153908826430276), (17, -0.12653443973528433), (18, -0.16375915859713527), (19, -0.011339894258056482)]\n",
      "0\n",
      "[(0, 0.3663799903439694), (1, -0.26160091778263866), (2, 0.03119020655718239), (3, 0.3281288610779066), (4, 0.07528454430204014), (5, 0.1957434521931528), (6, -0.1132043656075955), (7, -0.27289943920059645), (8, 0.1242498738672303), (9, 0.3360476693058559), (10, -0.41020696224830394), (11, -0.14476513498905588), (12, -0.15048746839706245), (13, 0.3649513873133513), (14, 0.16815858091342242), (15, 0.13450180815218787), (16, 0.1014376996497835), (17, -0.13680451166689964), (18, -0.09241580613754782), (19, 0.00860965307428987)]\n",
      "0\n",
      "[(0, 0.4365845033387684), (1, -0.3535526208767307), (2, -0.08350227244726159), (3, 0.22415197191461955), (4, -0.2713782812308332), (5, 0.26733109665512966), (6, -0.08666483169127005), (7, 0.10946135237046566), (8, 0.1141535972903175), (9, -0.0036682280895853855), (10, -0.021371363736509857), (11, -0.20410108011549227), (12, -0.033164601560274294), (13, -0.38653143899758685), (14, 0.18094868319320956), (15, -0.02704328557113331), (16, -0.0708367604427796), (17, 0.3334266990806275), (18, 0.32438989095064713), (19, -0.04488212831782137)]\n",
      "0\n",
      "[(0, 0.5301819219957378), (1, 0.23178677478171153), (2, 0.015451882255861388), (3, 0.11527577266493842), (4, -0.026879313455143387), (5, -0.05790550692465066), (6, -0.06323448606942544), (7, -0.07486190827957485), (8, 0.10562645088142977), (9, 0.1564247741136381), (10, 0.1092882001822363), (11, 0.08708451897708164), (12, -0.24789401461340096), (13, -0.03488682912485442), (14, -0.0890105001093224), (15, -0.6199429324778274), (16, -0.07861532296011126), (17, -0.23649550052190246), (18, 0.16038460001096946), (19, 0.20017160519786834)]\n",
      "0\n",
      "[(0, 0.4706894847670386), (1, -0.06921098678263464), (2, -0.18350696404531106), (3, 0.04998156401506528), (4, -0.1833888971167644), (5, -0.3784756693854601), (6, -0.0029503298424462337), (7, 0.06636396482382098), (8, -0.0945152789943344), (9, -0.14769189602635008), (10, 0.13960169242768308), (11, 0.16269127905786898), (12, -0.1885506977528619), (13, 0.4877832175185979), (14, 0.0002115216255611601), (15, 0.21130423829694295), (16, -0.29330947253528894), (17, 0.14018553529597091), (18, 0.23593996450958465), (19, -0.0036755850063397945)]\n",
      "13\n",
      "[(0, 0.5487630257060285), (1, 0.32870262041015136), (2, 0.21092526135965733), (3, 0.2102779527820352), (4, 0.1277424035258723), (5, -0.06963640714552843), (6, -0.1472529585053923), (7, 0.10952825962029082), (8, -0.006135395787689737), (9, -0.020696367088522336), (10, -0.045204749646004114), (11, 0.07928051181233946), (12, -0.0721549660896962), (13, -0.054073694244348616), (14, 0.020715923560838), (15, -0.12785460471932117), (16, -0.1434823118420111), (17, 0.24169771916253263), (18, -0.3659524469681011), (19, -0.4479207095341463)]\n",
      "0\n",
      "[(0, 0.29273023971939965), (1, -0.058819723984983904), (2, -0.3311659631554643), (3, -0.3846962224112992), (4, 0.5400268324307986), (5, 0.21615397169076034), (6, -0.058193460485116894), (7, -0.018586730346134856), (8, 0.17246001497725477), (9, -0.06522387101526862), (10, -0.13716730042035638), (11, -0.06314705208409545), (12, 0.08531768602232534), (13, -0.0585163658860398), (14, 0.015554681604414441), (15, 0.0292202372528044), (16, -0.4851079886807208), (17, -0.04749310586539113), (18, -0.0170525363851117), (19, 0.06804033452098145)]\n",
      "4\n",
      "[(0, 0.4285040885777796), (1, 0.17366072887565595), (2, -0.004257040329250337), (3, 0.08821972059572118), (4, 0.049982583998314956), (5, -0.02444061581729421), (6, -0.13878551954609633), (7, -0.06179902378042976), (8, 0.20288311323213704), (9, 0.43530284050061874), (10, 0.5115425562816555), (11, -0.027270006015648288), (12, 0.45844920732876576), (13, 0.025403623082918405), (14, -0.006503780680124036), (15, 0.2071742133510526), (16, 0.029957437116046003), (17, 0.01863869915414993), (18, -0.0023339279465046797), (19, 0.06438076556229978)]\n",
      "10\n",
      "[(0, 0.38842184286058473), (1, -0.4229122031503497), (2, -0.14923565371751668), (3, 0.07687313153361247), (4, -0.40386881331461916), (5, 0.13782647547970533), (6, -0.02275924403696935), (7, 0.3390486747122623), (8, 0.02287681542423694), (9, -0.14966979170977537), (10, 0.05760616030883381), (11, 0.1960841175134591), (12, 0.13763708717113946), (13, -0.03590467609020794), (14, -0.012200837120013377), (15, -0.0031364410029392146), (16, -0.0902515430309747), (17, -0.2943741374078966), (18, -0.38961531734092203), (19, 0.11326787893307735)]\n",
      "0\n",
      "[(0, 0.4604850105532418), (1, 0.300777293569411), (2, -0.0005036628154921688), (3, -0.34173674329179143), (4, -0.2908969797409044), (5, 0.2321583111283826), (6, 0.29874065659593), (7, -0.06483699557589663), (8, 0.14897518228724482), (9, -0.023842627117842158), (10, -0.06325686285270399), (11, 0.049354137022900924), (12, 0.011310701226135832), (13, -0.006799769716380821), (14, 0.029522717660482613), (15, 0.14180734531321926), (16, 0.08212751504279717), (17, -0.31304015881956043), (18, 0.21113791559991565), (19, -0.38608452417472766)]\n",
      "0\n",
      "[(0, 0.3028902139313427), (1, 0.054980073667643924), (2, 0.10216261324958457), (3, 0.22357415438754283), (4, 0.220454408652587), (5, 0.1775901958904308), (6, 0.43023999281717296), (7, 0.2616282588080715), (8, -0.6355636177129491), (9, 0.10662507743969048), (10, 0.03281080988843739), (11, -0.21662126336711907), (12, 0.13551184938882935), (13, 0.0556192934961518), (14, 0.05327166622073747), (15, -0.032122226297179673), (16, -0.08583434966011563), (17, -0.093215369489165), (18, 0.07376799912892662), (19, 0.03132910626303284)]\n",
      "6\n",
      "[(0, 0.4761705796621275), (1, 0.391232766574128), (2, 0.14225016990517056), (3, -0.2083075064620584), (4, -0.14988721514922693), (5, 0.19309242147100758), (6, 0.32077367225568004), (7, -0.03591542612509035), (8, 0.11293252882926225), (9, -0.073636149684099), (10, -0.05625864833706393), (11, -0.019483055427338816), (12, -0.16667614106499878), (13, 0.0296357260068527), (14, 0.05436089434103221), (15, 0.12499842046171591), (16, 0.0926798259670193), (17, 0.31182314986144544), (18, -0.2145992861255339), (19, 0.4144866437919642)]\n",
      "0\n",
      "[(0, 0.37855462953654323), (1, -0.2568285489707155), (2, -0.4134096453392357), (3, -0.2605931400162252), (4, 0.2657069160870872), (5, 0.059742515950109404), (6, 0.03390125563418415), (7, 0.24109762653460337), (8, -0.023248903168384027), (9, 0.06412947162147106), (10, 0.0015179062993227023), (11, 0.18577822461166846), (12, 0.04027765961474996), (13, 0.19121477399503348), (14, -0.07025246328850882), (15, -0.22157082178553394), (16, 0.48364127337852597), (17, 0.2098645915937915), (18, 0.02637464622406386), (19, -0.09187738823876457)]\n",
      "16\n",
      "[(0, 0.30951304524854784), (1, -0.1487350682949762), (2, -0.04290338319533799), (3, 0.18276094525477715), (4, 0.1393103538761009), (5, 0.2895047337079148), (6, -0.0326438328743321), (7, -0.6168337663758219), (8, -0.21099800715696093), (9, -0.43543131727542705), (10, 0.29844305153166806), (11, 0.13662226143001935), (12, 0.00269835595352062), (13, -0.027961639543893167), (14, -0.08817357224672397), (15, 0.016767733191795794), (16, 0.09809048945112823), (17, -0.0054825252141692815), (18, -0.031880007286946885), (19, -0.026455898500424947)]\n",
      "0\n",
      "[(0, 0.37724485718364115), (1, 0.25382169503979), (2, 0.11605389436141796), (3, 0.2896513579162541), (4, 0.3419857077724362), (5, -0.11421699586898594), (6, -0.2323530061469466), (7, 0.32971474089015157), (8, 0.14679446634328722), (9, -0.35426860141138494), (10, -0.12175201208345249), (11, 0.042112178194159196), (12, -0.019651023314013426), (13, -0.13547844136451911), (14, 0.0033083290276758872), (15, 0.2714901448504219), (16, 0.24138575305960336), (17, -0.20298355677092408), (18, 0.17081001803580778), (19, 0.13579118081254818)]\n",
      "0\n",
      "[(0, 0.38322559380539056), (1, 0.11647410005210944), (2, -0.17784611544052284), (3, 0.019733647097454256), (4, -0.20295773635573658), (5, -0.3750274697781348), (6, 0.003120700812677315), (7, -0.24781319256280918), (8, -0.09356289088278641), (9, -0.1495661145325641), (10, -0.43767362327594406), (11, -0.15473370902866573), (12, 0.5198045426802771), (13, -0.03627499643485188), (14, -0.13458664322195035), (15, -0.14279760361361346), (16, 0.028086653823766388), (17, 0.05581119374395753), (18, 0.011334549716444337), (19, 0.06016950792223216)]\n",
      "12\n",
      "[(0, 0.22185068619355403), (1, -0.28804886483258474), (2, 0.4744866878418755), (3, -0.3136327927672109), (4, 0.07533964940688755), (5, -0.21619892965856935), (6, -0.026153336536194338), (7, -0.0012575502641048921), (8, 0.10401832748611471), (9, -0.2467669589309189), (10, 0.18495137676473183), (11, -0.3374664041797189), (12, 0.09045362899721696), (13, 0.16212403793306535), (14, 0.43646671898826944), (15, -0.18977090563796567), (16, 0.07183735075120168), (17, -0.06253327471585603), (18, -0.03197286403858207), (19, -0.01798595960494067)]\n",
      "2\n",
      "[(0, 0.319663463193251), (1, -0.35358898460241794), (2, 0.43280141785872916), (3, -0.1470893960708627), (4, 0.0373035877304304), (5, -0.03498820947297906), (6, 0.02439658752992441), (7, 0.043880774063685554), (8, 0.06920309311105456), (9, 0.04580922439646642), (10, 0.005466666907623766), (11, -0.24657242797212578), (12, -0.10296317021879559), (13, -0.00945742477752202), (14, -0.6865092487054977), (15, 0.08717770312125887), (16, -0.008447597853081306), (17, 0.01674043269353259), (18, 0.012758730895728194), (19, -0.029761509384823547)]\n",
      "2\n",
      "[(0, 0.16295190085084207), (1, 0.12841825643011703), (2, 0.2414758767598735), (3, -0.3914093191865883), (4, -0.16996618474159986), (5, 0.2242796753903537), (6, -0.6312799276314157), (7, 0.026375042671134972), (8, -0.4597114790545786), (9, 0.1053702354812717), (10, -0.10901902925045906), (11, 0.12662313639745063), (12, 0.021050081998232592), (13, 0.024333304704659133), (14, 0.03167337176291153), (15, 0.048436495518864614), (16, 0.007859101487033598), (17, 0.008760362325328027), (18, 0.07724756006978103), (19, 0.07872358889634438)]\n",
      "2\n"
     ]
    }
   ],
   "source": [
    "def topic_number(doc):\n",
    "    n = doc[0][0]\n",
    "    m = doc[0][1]\n",
    "    for i in range(1, len(doc)):\n",
    "        if doc[i][1] > m:\n",
    "            n = i\n",
    "            m = doc[i][1]\n",
    "    return n\n",
    "\n",
    "lsi_model = models.LsiModel(corpus_tfidf, id2word = dictionary)\n",
    "corpus_lsi = lsi_model[corpus_tfidf]\n",
    "for doc in corpus_lsi:\n",
    "    print(doc)\n",
    "    print(topic_number(doc))"
   ]
  },
  {
   "cell_type": "markdown",
   "metadata": {},
   "source": [
    "Above result shows that many documents are topic 0 and some are topic 2, 4, 6, 10, 11, 13 and 16."
   ]
  },
  {
   "cell_type": "code",
   "execution_count": 5,
   "metadata": {},
   "outputs": [
    {
     "data": {
      "text/plain": [
       "[('missile', 0.12459100530239182),\n",
       " ('2003', 0.12238506219744012),\n",
       " ('agents', 0.10836267872326862),\n",
       " ('plant', 0.10318525178662478),\n",
       " ('enrichment', 0.09950024164537559),\n",
       " ('uranium', 0.09741909164585387),\n",
       " ('nuclear', 0.09482510030807947),\n",
       " ('missiles', 0.0948219499767438),\n",
       " ('range', 0.09386931658579684),\n",
       " ('program', 0.09244981273666449)]"
      ]
     },
     "execution_count": 5,
     "metadata": {},
     "output_type": "execute_result"
    }
   ],
   "source": [
    "lsi_model.show_topic(0)"
   ]
  },
  {
   "cell_type": "code",
   "execution_count": 6,
   "metadata": {},
   "outputs": [
    {
     "data": {
      "text/plain": [
       "[('terrorism', 0.20292917073628064),\n",
       " ('inherited', -0.19054614744504259),\n",
       " ('terrorist', 0.17498747109291654),\n",
       " ('groups', 0.17170259874605637),\n",
       " ('said', 0.13214572156481777),\n",
       " ('missile', -0.13068516387809567),\n",
       " ('export', -0.12375279922873894),\n",
       " ('trash', 0.12319269630489971),\n",
       " ('drill', 0.10559373968991409),\n",
       " ('money', 0.10559373968991409)]"
      ]
     },
     "execution_count": 6,
     "metadata": {},
     "output_type": "execute_result"
    }
   ],
   "source": [
    "lsi_model.show_topic(2)"
   ]
  },
  {
   "cell_type": "code",
   "execution_count": 7,
   "metadata": {},
   "outputs": [
    {
     "data": {
      "text/plain": [
       "[('inherited', 0.28314505765143966),\n",
       " ('nerve', -0.13243877172580776),\n",
       " ('destroyed', 0.13108479919913887),\n",
       " ('mm', -0.12098486761119776),\n",
       " ('dismantled', 0.11357176540283813),\n",
       " ('transferred', 0.11235117604067908),\n",
       " ('collapsed', 0.10668589971184332),\n",
       " ('precursors', -0.1032867662538035),\n",
       " ('artillery', -0.1024145350163572),\n",
       " ('cyclotron', 0.10225170887186648)]"
      ]
     },
     "execution_count": 7,
     "metadata": {},
     "output_type": "execute_result"
    }
   ],
   "source": [
    "lsi_model.show_topic(4)"
   ]
  },
  {
   "cell_type": "code",
   "execution_count": 8,
   "metadata": {},
   "outputs": [
    {
     "data": {
      "text/plain": [
       "[('diplomat', -0.2932991647683368),\n",
       " ('cameras', -0.2019665873595518),\n",
       " ('halls', -0.17597949886100206),\n",
       " ('install', -0.17597949886100206),\n",
       " ('plutonium', 0.1566546731703277),\n",
       " ('enrichment', -0.1408471689897621),\n",
       " ('agency', -0.13346725178386173),\n",
       " ('groups', 0.127612030125762),\n",
       " ('installation', -0.12747554663308308),\n",
       " ('talks', 0.11819704666975497)]"
      ]
     },
     "execution_count": 8,
     "metadata": {},
     "output_type": "execute_result"
    }
   ],
   "source": [
    "lsi_model.show_topic(6)"
   ]
  },
  {
   "cell_type": "code",
   "execution_count": 9,
   "metadata": {},
   "outputs": [
    {
     "data": {
      "text/plain": [
       "[('19', 0.1841782061185558),\n",
       " ('2003', 0.17115973981232638),\n",
       " ('announcement', 0.12894112666313756),\n",
       " ('plant', -0.12048984740111257),\n",
       " ('payload', -0.11451557153347668),\n",
       " ('coast', -0.11451557153347668),\n",
       " ('apartheid', 0.11044745272524649),\n",
       " ('groups', -0.10820591663580051),\n",
       " ('pledged', 0.10632512273551706),\n",
       " ('black', 0.101922601490882)]"
      ]
     },
     "execution_count": 9,
     "metadata": {},
     "output_type": "execute_result"
    }
   ],
   "source": [
    "lsi_model.show_topic(10)"
   ]
  },
  {
   "cell_type": "code",
   "execution_count": 10,
   "metadata": {},
   "outputs": [
    {
     "data": {
      "text/plain": [
       "[('groups', 0.35073653423843665),\n",
       " ('terrorism', 0.1440434830458724),\n",
       " ('terrorist', 0.13654705074385792),\n",
       " ('motivated', 0.12857166735896214),\n",
       " ('trash', -0.12534035560288803),\n",
       " ('export', -0.12496195422036249),\n",
       " ('violence', 0.11493292121873926),\n",
       " ('money', -0.10743459051676117),\n",
       " ('drill', -0.10743459051676117),\n",
       " ('inflict', 0.09851393247320506)]"
      ]
     },
     "execution_count": 10,
     "metadata": {},
     "output_type": "execute_result"
    }
   ],
   "source": [
    "lsi_model.show_topic(11)"
   ]
  },
  {
   "cell_type": "code",
   "execution_count": 11,
   "metadata": {},
   "outputs": [
    {
     "data": {
      "text/plain": [
       "[('export', -0.1969578922618021),\n",
       " ('groups', -0.15851827737700233),\n",
       " ('launched', 0.1341913488826324),\n",
       " ('upon', 0.12160127617597685),\n",
       " ('regulations', -0.11341253367455638),\n",
       " ('rockets', 0.11136115494243436),\n",
       " ('rocket', 0.10180104200638099),\n",
       " ('missile', 0.09782721251968816),\n",
       " ('artillery', 0.09715633789722698),\n",
       " ('nerve', -0.09284507114470177)]"
      ]
     },
     "execution_count": 11,
     "metadata": {},
     "output_type": "execute_result"
    }
   ],
   "source": [
    "lsi_model.show_topic(13)"
   ]
  },
  {
   "cell_type": "code",
   "execution_count": 12,
   "metadata": {},
   "outputs": [
    {
     "data": {
      "text/plain": [
       "[('massive', 0.18027304552691073),\n",
       " ('inherited', -0.16634053809186797),\n",
       " ('class', 0.13048710899190094),\n",
       " ('destroyed', -0.13002944959836096),\n",
       " ('lewisite', 0.12018203035127381),\n",
       " ('basing', 0.12018203035127381),\n",
       " ('submarines', 0.12018203035127381),\n",
       " ('reduced', 0.12018203035127381),\n",
       " ('anti', 0.11839073983757663),\n",
       " ('plague', 0.10814267314206115)]"
      ]
     },
     "execution_count": 12,
     "metadata": {},
     "output_type": "execute_result"
    }
   ],
   "source": [
    "lsi_model.show_topic(16)"
   ]
  },
  {
   "cell_type": "markdown",
   "metadata": {},
   "source": [
    "LSI Topics for each document:  \n",
    "NTI_BWTutorial_chapter1: group, terrorism, motivate, violence, inflict  \n",
    "NTI_ChinaOverview: missile, agent, plant, enrichment, uranium, nuclear, range, program  \n",
    "NTI_Iran_Biological: missile, agent, plant, enrichment, uranium, nuclear, range, program  \n",
    "NTI_Iran_Chemical: missile, agent, plant, enrichment, uranium, nuclear, range, program  \n",
    "NTI_Iran_Introduction: missile, agent, plant, enrichment, uranium, nuclear, range, program  \n",
    "NTI_Iran_Missile: launch, rocket, missile, artillery  \n",
    "NTI_Iran_Nuclear: missile, agent, plant, enrichment, uranium, nuclear, range, program  \n",
    "NTI_Kazakhstan: inherit, destroy, dismantle, transfer, collapse, cyclotron  \n",
    "NTI_LibyaCountry1: 2003, announcement, apartheid, pledge, black  \n",
    "NTI_NorthKorea_ChemicalOverview: missile, agent, plant, enrichment, uranium, nuclear, range, program  \n",
    "NTI_NorthKorea_Introduction: missile, agent, plant, enrichment, uranium, nuclear, range, program  \n",
    "NTI_NorthKorea_NuclearCapabilities: plutonium, group, talk  \n",
    "NTI_NorthKorea_NuclearOverview: missile, agent, plant, enrichment, uranium, nuclear, range, program  \n",
    "NTI_Russia_Introduction: massive, class, lewisite, basing, submarine, anti, plague  \n",
    "NTI_SouthAfrica_Introduction: missile, agent, plant, enrichment, uranium, nuclear, range, program  \n",
    "NTI_Syria_NuclearOverview: missile, agent, plant, enrichment, uranium, nuclear, range, program  \n",
    "NTI_Taiwan_Introduction: missile, agent, plant, enrichment, uranium, nuclear, range, program  \n",
    "NTI_WMDNews_042106: terrorism, trash, drill, money  \n",
    "NTI_WMDNews_062606: terrorism, trash, drill, money  \n",
    "NTI_workAdvances: terrorism, trash, drill, money"
   ]
  },
  {
   "cell_type": "code",
   "execution_count": 13,
   "metadata": {},
   "outputs": [
    {
     "name": "stdout",
     "output_type": "stream",
     "text": [
      "[(3, 0.032454796), (12, 0.02608318), (24, 0.07351397), (25, 0.038422093), (30, 0.64010864), (37, 0.021805478), (42, 0.024473354), (46, 0.05190487), (51, 0.030670607)]\n",
      "4\n",
      "[(3, 0.08007345), (24, 0.05415756), (37, 0.76828897), (42, 0.025213055)]\n",
      "2\n",
      "[(3, 0.04069466), (5, 0.012764614), (12, 0.025795013), (24, 0.7539511), (25, 0.032846577), (42, 0.021508388), (46, 0.019152576), (51, 0.032728974), (52, 0.014139824)]\n",
      "3\n",
      "[(3, 0.053063698), (12, 0.019836083), (16, 0.025859827), (24, 0.13146664), (25, 0.04022062), (30, 0.03168088), (37, 0.029701829), (42, 0.026091047), (46, 0.023740206), (51, 0.03363884), (52, 0.54221016)]\n",
      "10\n",
      "[(3, 0.050188437), (5, 0.010740786), (16, 0.02360518), (24, 0.079828985), (25, 0.6562783), (37, 0.02585554), (42, 0.04035366), (51, 0.06497542)]\n",
      "4\n",
      "[(3, 0.055276297), (5, 0.5322336), (12, 0.032272287), (16, 0.01982039), (24, 0.079657495), (25, 0.041065328), (30, 0.026238887), (37, 0.02782067), (39, 0.016276492), (42, 0.027514948), (46, 0.033267993), (51, 0.052383732), (52, 0.016935313)]\n",
      "1\n",
      "[(3, 0.10128298), (5, 0.03400079), (16, 0.024701962), (24, 0.09400797), (25, 0.054466285), (30, 0.026281724), (37, 0.014768517), (42, 0.023791553), (46, 0.05450318), (51, 0.5281519)]\n",
      "9\n",
      "[(3, 0.887251), (24, 0.015977329)]\n",
      "3\n",
      "[(3, 0.0699025), (24, 0.8272702), (51, 0.033052165)]\n",
      "1\n",
      "[(3, 0.03811425), (5, 0.0513045), (12, 0.057964005), (16, 0.0320523), (24, 0.09833074), (25, 0.011469478), (30, 0.41400212), (37, 0.022315921), (42, 0.039994765), (46, 0.056241307), (51, 0.051797975), (52, 0.0785775)]\n",
      "6\n",
      "[(3, 0.062287275), (5, 0.026351878), (16, 0.6856066), (24, 0.04515201), (25, 0.038093653), (42, 0.04203151), (51, 0.045526236)]\n",
      "2\n",
      "[(3, 0.074768394), (10, 0.62531185), (24, 0.09077457), (46, 0.106629126), (51, 0.02124648)]\n",
      "1\n",
      "[(3, 0.08772667), (5, 0.02631255), (16, 0.08290224), (24, 0.081067674), (25, 0.045008756), (37, 0.014408876), (39, 0.4826385), (42, 0.025964256), (46, 0.025273552), (51, 0.07194431), (52, 0.0144226905)]\n",
      "6\n",
      "[(3, 0.07698693), (12, 0.7455572), (24, 0.06528594), (30, 0.014563045), (37, 0.030345114)]\n",
      "1\n",
      "[(3, 0.09506539), (5, 0.019935582), (12, 0.031332802), (15, 0.4849083), (24, 0.09128898), (25, 0.055068363), (37, 0.012222435), (42, 0.040904194), (46, 0.0340333), (51, 0.06251343), (52, 0.0150983)]\n",
      "3\n",
      "[(3, 0.8288007), (24, 0.069429554), (51, 0.035712563)]\n",
      "3\n",
      "[(3, 0.047681946), (24, 0.03199739), (42, 0.8433685)]\n",
      "2\n",
      "[(3, 0.05276292), (5, 0.029470999), (12, 0.018056067), (24, 0.06001782), (26, 0.47158185), (30, 0.0544935), (37, 0.022556128), (39, 0.016545799), (42, 0.018539457), (46, 0.13103913), (51, 0.061217353)]\n",
      "4\n",
      "[(3, 0.039449967), (12, 0.01886755), (24, 0.06386268), (25, 0.028002623), (42, 0.017406998), (46, 0.7592709), (51, 0.015469296)]\n",
      "5\n",
      "[(51, 0.8814453)]\n",
      "51\n"
     ]
    }
   ],
   "source": [
    "lda_model = models.LdaModel(corpus_tfidf, id2word = dictionary, num_topics = 55, random_state = 9907)\n",
    "corpus_lda = lda_model[corpus_tfidf]\n",
    "for doc in corpus_lda:\n",
    "    print(doc)\n",
    "    print(topic_number(doc))"
   ]
  },
  {
   "cell_type": "code",
   "execution_count": 14,
   "metadata": {},
   "outputs": [
    {
     "data": {
      "text/plain": [
       "[('central', 0.0004828585),\n",
       " ('challenges', 0.0004828585),\n",
       " ('built', 0.0004828585),\n",
       " ('caliber', 0.0004828585),\n",
       " ('came', 0.0004828585),\n",
       " ('capital', 0.0004828585),\n",
       " ('cease-fire', 0.0004828585),\n",
       " ('bringing', 0.0004828585),\n",
       " ('class', 0.0004828585),\n",
       " ('coastal', 0.0004828585)]"
      ]
     },
     "execution_count": 14,
     "metadata": {},
     "output_type": "execute_result"
    }
   ],
   "source": [
    "lda_model.show_topic(1)"
   ]
  },
  {
   "cell_type": "code",
   "execution_count": 15,
   "metadata": {},
   "outputs": [
    {
     "data": {
      "text/plain": [
       "[('inherited', 0.007838653),\n",
       " ('cyclotron', 0.0055641406),\n",
       " ('plant', 0.005418295),\n",
       " ('destroyed', 0.0042535914),\n",
       " ('phosphoric', 0.004248958),\n",
       " ('transferred', 0.0042404574),\n",
       " ('dismantled', 0.003407586),\n",
       " ('collapsed', 0.0034075857),\n",
       " ('reactor', 0.0030600508),\n",
       " ('isotopes', 0.002933775)]"
      ]
     },
     "execution_count": 15,
     "metadata": {},
     "output_type": "execute_result"
    }
   ],
   "source": [
    "lda_model.show_topic(3)"
   ]
  },
  {
   "cell_type": "code",
   "execution_count": 16,
   "metadata": {},
   "outputs": [
    {
     "data": {
      "text/plain": [
       "[('missile', 0.0045439904),\n",
       " ('launched', 0.003848428),\n",
       " ('rockets', 0.0037728571),\n",
       " ('rocket', 0.00352651),\n",
       " ('upon', 0.003495985),\n",
       " ('artillery', 0.003409524),\n",
       " ('range', 0.003082492),\n",
       " ('long', 0.0030557285),\n",
       " ('missiles', 0.002889921),\n",
       " ('ballistic', 0.0028296183)]"
      ]
     },
     "execution_count": 16,
     "metadata": {},
     "output_type": "execute_result"
    }
   ],
   "source": [
    "lda_model.show_topic(5)"
   ]
  },
  {
   "cell_type": "code",
   "execution_count": 17,
   "metadata": {},
   "outputs": [
    {
     "data": {
      "text/plain": [
       "[('grade', 0.0040063616),\n",
       " ('plutonium', 0.0038537635),\n",
       " ('clandestine', 0.0032436776),\n",
       " ('reliable', 0.0031656208),\n",
       " ('require', 0.0029308875),\n",
       " ('mill', 0.0029143204),\n",
       " ('explosive', 0.0026178367),\n",
       " ('inputs', 0.0026006266),\n",
       " ('estimates', 0.0025734769),\n",
       " ('yield', 0.0024843859)]"
      ]
     },
     "execution_count": 17,
     "metadata": {},
     "output_type": "execute_result"
    }
   ],
   "source": [
    "lda_model.show_topic(10)"
   ]
  },
  {
   "cell_type": "code",
   "execution_count": 18,
   "metadata": {},
   "outputs": [
    {
     "data": {
      "text/plain": [
       "[('diplomat', 0.007209145),\n",
       " ('enrichment', 0.0066736345),\n",
       " ('cameras', 0.00554595),\n",
       " ('install', 0.0044379723),\n",
       " ('halls', 0.0044379723),\n",
       " ('agency', 0.004206511),\n",
       " ('uranium', 0.0034891008),\n",
       " ('installation', 0.0034761885),\n",
       " ('conversion', 0.0033902072),\n",
       " ('cascade', 0.0032417225)]"
      ]
     },
     "execution_count": 18,
     "metadata": {},
     "output_type": "execute_result"
    }
   ],
   "source": [
    "lda_model.show_topic(51)"
   ]
  },
  {
   "cell_type": "markdown",
   "metadata": {},
   "source": [
    "LDA Topics for each document:  \n",
    "NTI_BWTutorial_chapter1: central, challenge, build, caliber, capital, cease-fire, class, coastal  \n",
    "NTI_ChinaOverview: central, challenge, build, caliber, capital, cease-fire, class, coastal  \n",
    "NTI_Iran_Biological: inherit, cyclotron, plant, destroy, phosphoric, transfer, dismantle, collapse, reactor, isotopes  \n",
    "NTI_Iran_Chemical: grade, plutonium, clandestine, reliable, mill, explosive, yield  \n",
    "NTI_Iran_Introduction: central, challenge, build, caliber, capital, cease-fire, class, coastal  \n",
    "NTI_Iran_Missile: central, challenge, build, caliber, capital, cease-fire, class, coastal  \n",
    "NTI_Iran_Nuclear: central, challenge, build, caliber, capital, cease-fire, class, coastal  \n",
    "NTI_Kazakhstan: inherit, cyclotron, plant, destroy, phosphoric, transfer, dismantle, collapse, reactor, isotopes  \n",
    "NTI_LibyaCountry1: central, challenge, build, caliber, capital, cease-fire, class, coastal  \n",
    "NTI_NorthKorea_ChemicalOverview: central, challenge, build, caliber, capital, cease-fire, class, coastal  \n",
    "NTI_NorthKorea_Introduction: central, challenge, build, caliber, capital, cease-fire, class, coastal  \n",
    "NTI_NorthKorea_NuclearCapabilities:central, challenge, build, caliber, capital, cease-fire, class, coastal  \n",
    "NTI_NorthKorea_NuclearOverview: central, challenge, build, caliber, capital, cease-fire, class, coastal  \n",
    "NTI_Russia_Introduction: central, challenge, build, caliber, capital, cease-fire, class, coastal  \n",
    "NTI_SouthAfrica_Introduction: inherit, cyclotron, plant, destroy, phosphoric, transfer, dismantle, collapse, reactor, isotopes  \n",
    "NTI_Syria_NuclearOverview: inherit, cyclotron, plant, destroy, phosphoric, transfer, dismantle, collapse, reactor, isotopes  \n",
    "NTI_Taiwan_Introduction: central, challenge, build, caliber, capital, cease-fire, class, coastal  \n",
    "NTI_WMDNews_042106: central, challenge, build, caliber, capital, cease-fire, class, coastal  \n",
    "NTI_WMDNews_062606: missile, launch, rocket, artillery, range, long, ballistic  \n",
    "NTI_workAdvances: diplotmat, enrichment, cameras, install, halls, agency, uranium, installation, conversion, cascade"
   ]
  },
  {
   "cell_type": "markdown",
   "metadata": {},
   "source": [
    "Documents are about missiles, nuclear technology and chemical weapons in countries or regions such as China, Iran, Kazakhstan, Libya, North Korea, Russia, South Africa, Syria and Taiwan.  \n",
    "LSI model provides both positive and negative values of document's relation to a topic.  \n",
    "LDA model results differs due to its random process. All result numbers are probabilies that a document belongs to each topic. Even though we have more number of topics, many of them are exactly the same set of topics."
   ]
  }
 ],
 "metadata": {
  "kernelspec": {
   "display_name": "Python 3",
   "language": "python",
   "name": "python3"
  },
  "language_info": {
   "codemirror_mode": {
    "name": "ipython",
    "version": 3
   },
   "file_extension": ".py",
   "mimetype": "text/x-python",
   "name": "python",
   "nbconvert_exporter": "python",
   "pygments_lexer": "ipython3",
   "version": "3.6.7"
  }
 },
 "nbformat": 4,
 "nbformat_minor": 2
}
